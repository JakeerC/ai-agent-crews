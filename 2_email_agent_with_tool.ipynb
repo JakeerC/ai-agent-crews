{
 "cells": [
  {
   "cell_type": "markdown",
   "id": "a732b87c",
   "metadata": {},
   "source": [
    "## Load env file\n"
   ]
  },
  {
   "cell_type": "code",
   "execution_count": 9,
   "id": "eaa4d99a",
   "metadata": {},
   "outputs": [
    {
     "data": {
      "text/plain": [
       "True"
      ]
     },
     "execution_count": 9,
     "metadata": {},
     "output_type": "execute_result"
    }
   ],
   "source": [
    "from dotenv import load_dotenv\n",
    "\n",
    "load_dotenv()\n"
   ]
  },
  {
   "cell_type": "markdown",
   "id": "93ac8796",
   "metadata": {},
   "source": [
    "## Initialize LLM\n"
   ]
  },
  {
   "cell_type": "code",
   "execution_count": 10,
   "id": "5f28be77",
   "metadata": {},
   "outputs": [],
   "source": [
    "from crewai import LLM\n",
    "\n",
    "llm = LLM(model=\"gemini/gemini-2.0-flash\", temperature=0.1)\n"
   ]
  },
  {
   "cell_type": "markdown",
   "id": "eb2c4988",
   "metadata": {},
   "source": [
    "## Create a tool\n"
   ]
  },
  {
   "cell_type": "code",
   "execution_count": 12,
   "id": "78469c7c",
   "metadata": {},
   "outputs": [],
   "source": [
    "from crewai.tools import BaseTool\n",
    "\n",
    "\n",
    "class ReplacejargonsTool(BaseTool):\n",
    "    name: str = \"Replace Jargons\"\n",
    "    description: str = \"Replace jargons with specific words\"\n",
    "\n",
    "    def _run(self, email: str) -> str:\n",
    "        \"\"\"\n",
    "        This tool replaces jargons with specific words\n",
    "        \"\"\"\n",
    "\n",
    "        replace_jargons = {\n",
    "            \" :-) \": \"smily face\",\n",
    "            \"ping me\": \"reach out to me\",\n",
    "            \"wip\": \"work in progress\",\n",
    "            \"eta\": \"estimated time of arrival\",\n",
    "            \"prx\": \"product requirements exchange\",\n",
    "            \"tas\": \"technical assistance\",\n",
    "            \"sds\": \"software development standards\",\n",
    "            \"syncbot\": \"syncbot\",\n",
    "        }\n",
    "        suggestions = []\n",
    "        email_lower = email.lower()\n",
    "        for jargon, replacement in replace_jargons.items():\n",
    "            if jargon in email_lower:\n",
    "                suggestions.append(f\"consider replacing {jargon} -> {replacement}\")\n",
    "        return \"\\n\".join(suggestions) if suggestions else \"No jargons found\"\n",
    "\n",
    "\n",
    "jt = ReplacejargonsTool()"
   ]
  },
  {
   "cell_type": "markdown",
   "id": "9844b2d2",
   "metadata": {},
   "source": [
    "## Create a Agent and Task\n"
   ]
  },
  {
   "cell_type": "code",
   "execution_count": 13,
   "id": "a12c549b",
   "metadata": {},
   "outputs": [],
   "source": [
    "from crewai import Agent, Task, Crew\n",
    "\n",
    "\n",
    "def rewrite_email(email_text: str) -> str:\n",
    "    email_agent = Agent(\n",
    "        role=\"Email Agent\",\n",
    "        goal=\"Send an email to the CEO of the company\",\n",
    "        backstory=\"You are a helpful assistant that can sends professional emails\",\n",
    "        llm=llm,\n",
    "        verbose=True,\n",
    "        tools=[jt],\n",
    "    )\n",
    "\n",
    "    email_task = Task(\n",
    "        description=f\"\"\"take the following email and rewrite it to professional version. \n",
    "    Original email: '''{email_text}'''\n",
    "    \"\"\",\n",
    "        agent=email_agent,\n",
    "        expected_output=\"An email to the colleagues of the company, expanded the aberrations\",\n",
    "    )\n",
    "\n",
    "    email_agent_crew = Crew(agents=[email_agent], tasks=[email_task], verbose=True)\n",
    "    result = email_agent_crew.kickoff()\n",
    "    return result"
   ]
  },
  {
   "cell_type": "code",
   "execution_count": null,
   "id": "f90a5646",
   "metadata": {},
   "outputs": [],
   "source": [
    "# Provide your email text and run this cell\n",
    "email_text = \"\"\"\n",
    "hey team, just wanted to tell u that the demo is kind of ready, but there's still stuff left.\n",
    "Maybe we can show what we have and say rest is WIP.\n",
    "Let me know what u think. thanks\n",
    "ping me if any blockers.\n",
    "\n",
    "PRX and WIP are in the deck.\n",
    "\"\"\"\n",
    "\n",
    "print(rewrite_email(email_text))\n"
   ]
  },
  {
   "cell_type": "code",
   "execution_count": null,
   "id": "4a84f2b6",
   "metadata": {},
   "outputs": [],
   "source": []
  }
 ],
 "metadata": {
  "kernelspec": {
   "display_name": ".venv",
   "language": "python",
   "name": "python3"
  },
  "language_info": {
   "codemirror_mode": {
    "name": "ipython",
    "version": 3
   },
   "file_extension": ".py",
   "mimetype": "text/x-python",
   "name": "python",
   "nbconvert_exporter": "python",
   "pygments_lexer": "ipython3",
   "version": "3.10.18"
  }
 },
 "nbformat": 4,
 "nbformat_minor": 5
}
